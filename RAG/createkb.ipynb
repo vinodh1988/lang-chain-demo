{
 "cells": [
  {
   "cell_type": "code",
   "execution_count": 1,
   "metadata": {},
   "outputs": [
    {
     "name": "stdout",
     "output_type": "stream",
     "text": [
      "[Document(page_content=\"Q: What types of courses does SmartLearn offer?  \\nA: SmartLearn offers courses in Data Science, Prompt Engineering, AI and Machine Learning, Full Stack Development, and Data Engineering.\\n\\nQ: Can I access SmartLearn courses on mobile devices?  \\nA: Yes, all courses are accessible on mobile devices.\\n\\nQ: Does SmartLearn offer a trial for any courses?  \\nA: No, but there is a 30-day money-back guarantee.\\n\\nQ: Are there live instructors in SmartLearn courses?  \\nA: Yes, courses include live sessions with instructors.\\n\\nQ: How long is the Full Stack Development course?  \\nA: The course lasts approximately 12 weeks.\\n\\nQ: Do SmartLearn courses include hands-on projects?  \\nA: Yes, students work on practical projects relevant to real-world applications.\\n\\nQ: What is required to enroll in the Data Science course?  \\nA: Basic knowledge of programming and statistics is recommended.\\n\\nQ: Does SmartLearn provide certifications upon course completion?  \\nA: Yes, certifications are awarded upon successful course completion.\\n\\nQ: Are SmartLearn's courses recognized by industry?  \\nA: Yes, our courses are well-regarded in the industry.\\n\\nQ: Can I get a refund if I'm not satisfied with a course?  \\nA: Yes, there is a 30-day refund policy for all courses.\\n\\nQ: What support does SmartLearn offer to its students?  \\nA: We offer community forums, live support, and access to instructors.\\n\\nQ: Does SmartLearn have courses for beginners?  \\nA: Yes, there are beginner-friendly courses in all our key areas.\\n\\nQ: Are there any discounts available for SmartLearn courses?  \\nA: Yes, we frequently offer promotional discounts.\\n\\nQ: How do I make a payment for a SmartLearn course?  \\nA: Payments can be made via credit card, PayPal, or bank transfer.\\n\\nQ: What languages are SmartLearn courses taught in?  \\nA: Courses are primarily taught in English.\\n\\nQ: Is there job placement assistance after completing a course?  \\nA: Yes, we offer job placement services to our graduates.\\n\\nQ: Can international students enroll in SmartLearn courses?  \\nA: Yes, our courses are available globally.\\n\\nQ: How often are SmartLearn courses updated?  \\nA: Courses are updated regularly to reflect the latest industry trends.\\n\\nQ: Can I interact with other students in SmartLearn courses?  \\nA: Yes, there are interactive forums and group projects.\\n\\nQ: What programming languages are taught in the AI and Machine Learning course?  \\nA: Python, along with relevant AI libraries, is the primary focus.\\n\\nQ: Do SmartLearn courses require any specific software installations?  \\nA: Some courses might require specific tools or software, which are detailed in the course prerequisites.\\n\\nQ: Can I pause my SmartLearn course and resume later?  \\nA: Yes, you can pause your learning and resume it at any time.\\n\\nQ: Are there quizzes or exams in SmartLearn courses?  \\nA: Yes, courses include quizzes, tests, and final exams to assess knowledge.\\n\\nQ: How do I contact technical support on SmartLearn?  \\nA: Technical support can be contacted through the support page on our website.\\n\\nQ: Does SmartLearn offer group discounts?  \\nA: Yes, we offer discounts for group enrollments.\\n\\nQ: What topics are covered in the Data Engineering course?  \\nA: The course covers databases, big data technologies, and data pipelines.\\n\\nQ: Are there any prerequisites for the Full Stack Development course?  \\nA: Basic understanding of HTML, CSS, and JavaScript is recommended.\\n\\nQ: How can I track my progress in a SmartLearn course?  \\nA: Progress can be tracked through the learning dashboard on your account.\\n\\nQ: What happens if I fail a SmartLearn course?  \\nA: You can retake the course or specific sections depending on the course policy.\\n\\nQ: Does SmartLearn offer courses on weekends?  \\nA: Yes, there are flexible scheduling options, including weekends.\\n\\nQ: What is the average class size for SmartLearn courses?  \\nA: Class sizes vary but are generally kept small to enhance learning.\\n\\nQ: Are there any age restrictions for enrolling in SmartLearn courses?  \\nA: There are no age restrictions, but some courses may require adult supervision for minors.\\n\\nQ: How is student performance evaluated in SmartLearn courses?  \\nA: Performance is evaluated through projects, exams, and participation.\\n\\nQ: Does SmartLearn have a newsletter?  \\nA: Yes, we have a newsletter that provides updates and news.\\n\\nQ: What are the system requirements to access SmartLearn courses?  \\nA: Basic internet access and a compatible device are required.\\n\\nQ: Can I change courses if I am not satisfied with my initial choice?  \\nA: Yes, you can switch courses within the first week of enrollment.\\n\\nQ: How does SmartLearn ensure the quality of its courses?  \\nA: Courses are designed by experts and routinely reviewed for quality.\\n\\nQ: What data science tools are taught in SmartLearnâ€™s Data Science course?  \\nA: Tools like Python, R, SQL, and Tableau are covered.\\n\\nQ: Can I get a demo of a SmartLearn course before enrolling?  \\nA: We offer sample lessons and course outlines to preview the course content.\\n\", metadata={'source': './smartlearn.txt'})]\n"
     ]
    }
   ],
   "source": [
    "\n",
    "from langchain_community.document_loaders import TextLoader\n",
    "\n",
    "loader = TextLoader(\"./smartlearn.txt\")\n",
    "docs = loader.load()\n",
    "print(docs)"
   ]
  },
  {
   "cell_type": "code",
   "execution_count": 2,
   "metadata": {},
   "outputs": [],
   "source": [
    "from langchain.text_splitter import RecursiveCharacterTextSplitter\n",
    "\n",
    "text_splitter = RecursiveCharacterTextSplitter(\n",
    "    chunk_size=100,\n",
    "    chunk_overlap=20,\n",
    ")\n",
    "documents = text_splitter.split_documents(docs)"
   ]
  },
  {
   "cell_type": "code",
   "execution_count": 3,
   "metadata": {},
   "outputs": [
    {
     "name": "stdout",
     "output_type": "stream",
     "text": [
      "page_content='Q: What types of courses does SmartLearn offer?' metadata={'source': './smartlearn.txt'}\n",
      "page_content='A: SmartLearn offers courses in Data Science, Prompt Engineering, AI and Machine Learning, Full' metadata={'source': './smartlearn.txt'}\n",
      "page_content='Learning, Full Stack Development, and Data Engineering.' metadata={'source': './smartlearn.txt'}\n",
      "page_content='Q: Can I access SmartLearn courses on mobile devices?' metadata={'source': './smartlearn.txt'}\n",
      "page_content='A: Yes, all courses are accessible on mobile devices.' metadata={'source': './smartlearn.txt'}\n",
      "page_content='Q: Does SmartLearn offer a trial for any courses?' metadata={'source': './smartlearn.txt'}\n",
      "page_content='A: No, but there is a 30-day money-back guarantee.' metadata={'source': './smartlearn.txt'}\n",
      "page_content='Q: Are there live instructors in SmartLearn courses?' metadata={'source': './smartlearn.txt'}\n",
      "page_content='A: Yes, courses include live sessions with instructors.' metadata={'source': './smartlearn.txt'}\n",
      "page_content='Q: How long is the Full Stack Development course?  \\nA: The course lasts approximately 12 weeks.' metadata={'source': './smartlearn.txt'}\n",
      "page_content='Q: Do SmartLearn courses include hands-on projects?' metadata={'source': './smartlearn.txt'}\n",
      "page_content='A: Yes, students work on practical projects relevant to real-world applications.' metadata={'source': './smartlearn.txt'}\n",
      "page_content='Q: What is required to enroll in the Data Science course?' metadata={'source': './smartlearn.txt'}\n",
      "page_content='A: Basic knowledge of programming and statistics is recommended.' metadata={'source': './smartlearn.txt'}\n",
      "page_content='Q: Does SmartLearn provide certifications upon course completion?' metadata={'source': './smartlearn.txt'}\n",
      "page_content='A: Yes, certifications are awarded upon successful course completion.' metadata={'source': './smartlearn.txt'}\n",
      "page_content=\"Q: Are SmartLearn's courses recognized by industry?\" metadata={'source': './smartlearn.txt'}\n",
      "page_content='A: Yes, our courses are well-regarded in the industry.' metadata={'source': './smartlearn.txt'}\n",
      "page_content=\"Q: Can I get a refund if I'm not satisfied with a course?\" metadata={'source': './smartlearn.txt'}\n",
      "page_content='A: Yes, there is a 30-day refund policy for all courses.' metadata={'source': './smartlearn.txt'}\n",
      "page_content='Q: What support does SmartLearn offer to its students?' metadata={'source': './smartlearn.txt'}\n",
      "page_content='A: We offer community forums, live support, and access to instructors.' metadata={'source': './smartlearn.txt'}\n",
      "page_content='Q: Does SmartLearn have courses for beginners?' metadata={'source': './smartlearn.txt'}\n",
      "page_content='A: Yes, there are beginner-friendly courses in all our key areas.' metadata={'source': './smartlearn.txt'}\n",
      "page_content='Q: Are there any discounts available for SmartLearn courses?' metadata={'source': './smartlearn.txt'}\n",
      "page_content='A: Yes, we frequently offer promotional discounts.' metadata={'source': './smartlearn.txt'}\n",
      "page_content='Q: How do I make a payment for a SmartLearn course?' metadata={'source': './smartlearn.txt'}\n",
      "page_content='A: Payments can be made via credit card, PayPal, or bank transfer.' metadata={'source': './smartlearn.txt'}\n",
      "page_content='Q: What languages are SmartLearn courses taught in?  \\nA: Courses are primarily taught in English.' metadata={'source': './smartlearn.txt'}\n",
      "page_content='Q: Is there job placement assistance after completing a course?' metadata={'source': './smartlearn.txt'}\n",
      "page_content='A: Yes, we offer job placement services to our graduates.' metadata={'source': './smartlearn.txt'}\n",
      "page_content='Q: Can international students enroll in SmartLearn courses?' metadata={'source': './smartlearn.txt'}\n",
      "page_content='A: Yes, our courses are available globally.' metadata={'source': './smartlearn.txt'}\n",
      "page_content='Q: How often are SmartLearn courses updated?' metadata={'source': './smartlearn.txt'}\n",
      "page_content='A: Courses are updated regularly to reflect the latest industry trends.' metadata={'source': './smartlearn.txt'}\n",
      "page_content='Q: Can I interact with other students in SmartLearn courses?' metadata={'source': './smartlearn.txt'}\n",
      "page_content='A: Yes, there are interactive forums and group projects.' metadata={'source': './smartlearn.txt'}\n",
      "page_content='Q: What programming languages are taught in the AI and Machine Learning course?' metadata={'source': './smartlearn.txt'}\n",
      "page_content='A: Python, along with relevant AI libraries, is the primary focus.' metadata={'source': './smartlearn.txt'}\n",
      "page_content='Q: Do SmartLearn courses require any specific software installations?' metadata={'source': './smartlearn.txt'}\n",
      "page_content='A: Some courses might require specific tools or software, which are detailed in the course' metadata={'source': './smartlearn.txt'}\n",
      "page_content='in the course prerequisites.' metadata={'source': './smartlearn.txt'}\n",
      "page_content='Q: Can I pause my SmartLearn course and resume later?' metadata={'source': './smartlearn.txt'}\n",
      "page_content='A: Yes, you can pause your learning and resume it at any time.' metadata={'source': './smartlearn.txt'}\n",
      "page_content='Q: Are there quizzes or exams in SmartLearn courses?' metadata={'source': './smartlearn.txt'}\n",
      "page_content='A: Yes, courses include quizzes, tests, and final exams to assess knowledge.' metadata={'source': './smartlearn.txt'}\n",
      "page_content='Q: How do I contact technical support on SmartLearn?' metadata={'source': './smartlearn.txt'}\n",
      "page_content='A: Technical support can be contacted through the support page on our website.' metadata={'source': './smartlearn.txt'}\n",
      "page_content='Q: Does SmartLearn offer group discounts?  \\nA: Yes, we offer discounts for group enrollments.' metadata={'source': './smartlearn.txt'}\n",
      "page_content='Q: What topics are covered in the Data Engineering course?' metadata={'source': './smartlearn.txt'}\n",
      "page_content='A: The course covers databases, big data technologies, and data pipelines.' metadata={'source': './smartlearn.txt'}\n",
      "page_content='Q: Are there any prerequisites for the Full Stack Development course?' metadata={'source': './smartlearn.txt'}\n",
      "page_content='A: Basic understanding of HTML, CSS, and JavaScript is recommended.' metadata={'source': './smartlearn.txt'}\n",
      "page_content='Q: How can I track my progress in a SmartLearn course?' metadata={'source': './smartlearn.txt'}\n",
      "page_content='A: Progress can be tracked through the learning dashboard on your account.' metadata={'source': './smartlearn.txt'}\n",
      "page_content='Q: What happens if I fail a SmartLearn course?' metadata={'source': './smartlearn.txt'}\n",
      "page_content='A: You can retake the course or specific sections depending on the course policy.' metadata={'source': './smartlearn.txt'}\n",
      "page_content='Q: Does SmartLearn offer courses on weekends?' metadata={'source': './smartlearn.txt'}\n",
      "page_content='A: Yes, there are flexible scheduling options, including weekends.' metadata={'source': './smartlearn.txt'}\n",
      "page_content='Q: What is the average class size for SmartLearn courses?' metadata={'source': './smartlearn.txt'}\n",
      "page_content='A: Class sizes vary but are generally kept small to enhance learning.' metadata={'source': './smartlearn.txt'}\n",
      "page_content='Q: Are there any age restrictions for enrolling in SmartLearn courses?' metadata={'source': './smartlearn.txt'}\n",
      "page_content='A: There are no age restrictions, but some courses may require adult supervision for minors.' metadata={'source': './smartlearn.txt'}\n",
      "page_content='Q: How is student performance evaluated in SmartLearn courses?' metadata={'source': './smartlearn.txt'}\n",
      "page_content='A: Performance is evaluated through projects, exams, and participation.' metadata={'source': './smartlearn.txt'}\n",
      "page_content='Q: Does SmartLearn have a newsletter?' metadata={'source': './smartlearn.txt'}\n",
      "page_content='A: Yes, we have a newsletter that provides updates and news.' metadata={'source': './smartlearn.txt'}\n",
      "page_content='Q: What are the system requirements to access SmartLearn courses?' metadata={'source': './smartlearn.txt'}\n",
      "page_content='A: Basic internet access and a compatible device are required.' metadata={'source': './smartlearn.txt'}\n",
      "page_content='Q: Can I change courses if I am not satisfied with my initial choice?' metadata={'source': './smartlearn.txt'}\n",
      "page_content='A: Yes, you can switch courses within the first week of enrollment.' metadata={'source': './smartlearn.txt'}\n",
      "page_content='Q: How does SmartLearn ensure the quality of its courses?' metadata={'source': './smartlearn.txt'}\n",
      "page_content='A: Courses are designed by experts and routinely reviewed for quality.' metadata={'source': './smartlearn.txt'}\n",
      "page_content='Q: What data science tools are taught in SmartLearnâ€™s Data Science course?' metadata={'source': './smartlearn.txt'}\n",
      "page_content='A: Tools like Python, R, SQL, and Tableau are covered.' metadata={'source': './smartlearn.txt'}\n",
      "page_content='Q: Can I get a demo of a SmartLearn course before enrolling?' metadata={'source': './smartlearn.txt'}\n",
      "page_content='A: We offer sample lessons and course outlines to preview the course content.' metadata={'source': './smartlearn.txt'}\n"
     ]
    },
    {
     "data": {
      "text/plain": [
       "77"
      ]
     },
     "execution_count": 3,
     "metadata": {},
     "output_type": "execute_result"
    }
   ],
   "source": [
    "for doc in documents:\n",
    "    print(doc)\n",
    "\n",
    "len(documents)"
   ]
  },
  {
   "cell_type": "code",
   "execution_count": 4,
   "metadata": {},
   "outputs": [],
   "source": [
    "from langchain_openai import OpenAIEmbeddings\n",
    "\n",
    "embeddings= OpenAIEmbeddings()"
   ]
  },
  {
   "cell_type": "code",
   "execution_count": 6,
   "metadata": {},
   "outputs": [],
   "source": [
    "from langchain.vectorstores.faiss import FAISS\n",
    "\n",
    "vectorstore = FAISS.from_documents(documents,embeddings)\n",
    "vectorstore.save_local(\"smartlearn-index\")"
   ]
  }
 ],
 "metadata": {
  "kernelspec": {
   "display_name": "Python 3",
   "language": "python",
   "name": "python3"
  },
  "language_info": {
   "codemirror_mode": {
    "name": "ipython",
    "version": 3
   },
   "file_extension": ".py",
   "mimetype": "text/x-python",
   "name": "python",
   "nbconvert_exporter": "python",
   "pygments_lexer": "ipython3",
   "version": "3.11.2"
  }
 },
 "nbformat": 4,
 "nbformat_minor": 2
}
